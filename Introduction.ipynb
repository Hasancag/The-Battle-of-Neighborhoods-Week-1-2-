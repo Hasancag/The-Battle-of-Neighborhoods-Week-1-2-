{
 "cells": [
  {
   "cell_type": "markdown",
   "id": "freelance-picking",
   "metadata": {},
   "source": [
    "# Introduction\n",
    "\n",
    "We thought that, you have never been in the Turkey and you want to have kebab while you are there. Therefore, you want to go to a place with a high density of kebab restaurants around you. The problem that we aim to solve is to analyze the locations of  kebab restaurants in the major cities in Turkey and find the best place for people to eat. In this way, they can enjoy their kebab. The main target is tourists.\n",
    "\n",
    "\n",
    "# Data Section\n",
    "\n",
    "We will use the FourSquare API to collect data about locations of kebab restaurants in 5 major Turkey cities which are: İstanbul, Ankara, İzmir, Antalya, Adana. These are one of the most populated Turkey cities and I hope that they will contain the best kebab places in Turkey."
   ]
  }
 ],
 "metadata": {
  "kernelspec": {
   "display_name": "Python 3",
   "language": "python",
   "name": "python3"
  },
  "language_info": {
   "codemirror_mode": {
    "name": "ipython",
    "version": 3
   },
   "file_extension": ".py",
   "mimetype": "text/x-python",
   "name": "python",
   "nbconvert_exporter": "python",
   "pygments_lexer": "ipython3",
   "version": "3.8.5"
  }
 },
 "nbformat": 4,
 "nbformat_minor": 5
}
