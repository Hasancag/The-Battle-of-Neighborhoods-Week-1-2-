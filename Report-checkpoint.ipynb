{
 "cells": [
  {
   "attachments": {},
   "cell_type": "markdown",
   "id": "identified-secretary",
   "metadata": {},
   "source": [
    "# Introduction\n",
    "\n",
    "We thought that, you have never been in the Turkey and you want to have kebab while you are there. Therefore, you want to go to a place with a high density of kebab restaurants around you. The problem that we aim to solve is to analyze the locations of  kebab restaurants in the major cities in Turkey and find the best place for people to eat. In this way, they can enjoy their kebab. The main target is tourists.\n",
    "\n",
    "\n",
    "# Data Section\n",
    "\n",
    "We will use the FourSquare API to collect data about locations of kebab restaurants in 5 major Turkey cities which are: İstanbul, Ankara, İzmir, Antalya, Adana. These are one of the most populated Turkey cities and I hope that they will contain the best kebab places in Turkey.\n",
    "\n",
    "\n",
    "# Methodology\n",
    "\n",
    "The main goal is to determine which city has the highest density of kebab restaurants. Through the venues channel, I used the Four Square API. To find venues in the cities, I used the near query. I also use the CategoryID to limit the results to kebab restaurants. Here's an example of one of my requests:\n",
    "\n",
    "https://api.foursquare.com/v2/venues/explore?&client_id=&client_secret=&v=20180605&İstanbul,Turkey&limit=100&categoryId=4bf58dd8d48988d1ca941735\n",
    "\n",
    "That 5283c7b4e4b094cb91ec88d7 is the Id of the Kebab Restaurant Category. Also, Foursquare limits us to maximum of 100 venues per query.\n",
    "\n",
    "Moreover, I repeated this request for the 5 studied cities and got their top 100 venues. I saved the name and coordinate data only from the result and plotted them on the map for visual inspection.\n",
    "\n",
    "Next, to get an indicator of the density of kebab restaurants, I got a center coordinate of the venues to get the mean longitude and latitude values. Then, I got the mean of the Euclidean distance from each venue to the mean coordinates. That was my indicator which is mean distance to the mean coordinate.\n",
    "\n",
    "\n",
    "# Results\n",
    "\n",
    "Upon first glance, we note that they all have numerous kebab restaurants, many more than Foursquare would like to have. The geoplot created with folium is shown in the images in the link below:\n",
    "\n",
    "https://nbviewer.jupyter.org/github/Hasancag/The-Battle-of-Neighborhoods-Week-1-2-/blob/main/Code%28Week2%29.ipynb\n",
    "\n",
    "The cities that have most kebab restaurants are İstanbul, Ankara, İzmir, Adana, Antalya in order.\n",
    "\n",
    "\n",
    "# Discussion\n",
    "\n",
    "One thing I noticed in the figure is that there is a really far away kebab restaurant in İzmir that is probably giving it a higher MDMC. So I tried what happens if I remove it, because it would not harm anyone to try 38 pizza places instead of 39.\n",
    "\n",
    "One consideration to do further work on it is moving the location of the Foursquare API query until we get all the kebab restaurants in each city and do the calculations again.\n",
    "\n",
    "# Conclusion\n",
    "\n",
    "Now there is no doubt that İstanbul is the best place to try many kebab restaurants in Turkey. Also, if our tourist is done with all the Turkey kebab restaurants, they can visit Ankara or İzmir and enjoy more.\n",
    "\n",
    "Also, we would recommend that our tourist to book a hotel close to the mean coordinate."
   ]
  }
 ],
 "metadata": {
  "kernelspec": {
   "display_name": "Python 3",
   "language": "python",
   "name": "python3"
  },
  "language_info": {
   "codemirror_mode": {
    "name": "ipython",
    "version": 3
   },
   "file_extension": ".py",
   "mimetype": "text/x-python",
   "name": "python",
   "nbconvert_exporter": "python",
   "pygments_lexer": "ipython3",
   "version": "3.8.5"
  }
 },
 "nbformat": 4,
 "nbformat_minor": 5
}
